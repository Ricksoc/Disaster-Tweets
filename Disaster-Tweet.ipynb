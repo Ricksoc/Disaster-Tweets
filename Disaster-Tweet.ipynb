{
 "cells": [
  {
   "cell_type": "markdown",
   "metadata": {},
   "source": [
    "# Real or Not? NLP with Disaster Tweets\n",
    "\n",
    "This is an introductory Kaggle competition for using NLP to predict whether a tweet is about an actual disaster or not. It is a binary classification task using the F1 score as the evaluation metric.\n",
    "\n",
    "The latter stages of this notebook require neatening up and additional explanatory notes."
   ]
  },
  {
   "cell_type": "code",
   "execution_count": 135,
   "metadata": {},
   "outputs": [],
   "source": [
    "# Import required packages\n",
    "import pandas as pd\n",
    "pd.set_option('display.max_colwidth', None)\n",
    "import numpy as np\n",
    "np.random.seed(27)\n",
    "import matplotlib.pyplot as plt\n",
    "plt.style.use('ggplot')\n",
    "colours = plt.rcParams['axes.prop_cycle'].by_key()['color']   \n",
    "%matplotlib inline\n",
    "import seaborn as sns\n",
    "sns.color_palette('muted')\n",
    "current_palette = sns.color_palette()\n",
    "import warnings\n",
    "warnings.filterwarnings('ignore')\n",
    "\n",
    "import nltk\n",
    "from nltk.corpus import stopwords\n",
    "stop = stopwords.words('english')\n",
    "\n",
    "import re\n",
    "\n",
    "from mlxtend.plotting import plot_confusion_matrix\n",
    "\n",
    "from sklearn.model_selection import train_test_split, cross_val_score, cross_val_predict, GridSearchCV, learning_curve\n",
    "from sklearn.metrics import f1_score, precision_score, recall_score, precision_recall_curve, roc_curve, confusion_matrix,\\\n",
    "roc_auc_score\n",
    "from sklearn.feature_extraction.text import CountVectorizer, TfidfVectorizer\n",
    "\n",
    "from sklearn.svm import SVC\n",
    "from sklearn.linear_model import LogisticRegression\n",
    "from sklearn.tree import DecisionTreeClassifier\n",
    "from sklearn.ensemble import RandomForestClassifier, VotingClassifier\n",
    "from sklearn.naive_bayes import MultinomialNB\n",
    "import xgboost as xgb\n"
   ]
  },
  {
   "cell_type": "code",
   "execution_count": 2,
   "metadata": {},
   "outputs": [],
   "source": [
    "# Import data - first two lines of code are for Kaggle submission. Second two are for local.\n",
    "# train_df = pd.read_csv(\"/kaggle/input/nlp-getting-started/train.csv\")\n",
    "# test_df = pd.read_csv(\"/kaggle/input/nlp-getting-started/test.csv\")\n",
    "\n",
    "train = pd.read_csv('train.csv')\n",
    "test = pd.read_csv('test.csv')\n",
    "\n",
    "train_df = train.copy()\n",
    "test_df = test.copy()"
   ]
  },
  {
   "cell_type": "code",
   "execution_count": 3,
   "metadata": {},
   "outputs": [
    {
     "data": {
      "text/html": [
       "<div>\n",
       "<style scoped>\n",
       "    .dataframe tbody tr th:only-of-type {\n",
       "        vertical-align: middle;\n",
       "    }\n",
       "\n",
       "    .dataframe tbody tr th {\n",
       "        vertical-align: top;\n",
       "    }\n",
       "\n",
       "    .dataframe thead th {\n",
       "        text-align: right;\n",
       "    }\n",
       "</style>\n",
       "<table border=\"1\" class=\"dataframe\">\n",
       "  <thead>\n",
       "    <tr style=\"text-align: right;\">\n",
       "      <th></th>\n",
       "      <th>id</th>\n",
       "      <th>keyword</th>\n",
       "      <th>location</th>\n",
       "      <th>text</th>\n",
       "      <th>target</th>\n",
       "    </tr>\n",
       "  </thead>\n",
       "  <tbody>\n",
       "    <tr>\n",
       "      <th>2111</th>\n",
       "      <td>3034</td>\n",
       "      <td>death</td>\n",
       "      <td>NaN</td>\n",
       "      <td>New crime: knowing your rights. Punishable by death</td>\n",
       "      <td>0</td>\n",
       "    </tr>\n",
       "    <tr>\n",
       "      <th>1731</th>\n",
       "      <td>2494</td>\n",
       "      <td>collided</td>\n",
       "      <td>NaN</td>\n",
       "      <td>It's Even Worse Than It Looks: How the American Constitutional System Collided With the New PoliticÛ_ http://t.co/Gfa3SOw9zn</td>\n",
       "      <td>0</td>\n",
       "    </tr>\n",
       "    <tr>\n",
       "      <th>987</th>\n",
       "      <td>1432</td>\n",
       "      <td>body%20bagging</td>\n",
       "      <td>ATL ? SEA</td>\n",
       "      <td>Drake is really body bagging meek</td>\n",
       "      <td>0</td>\n",
       "    </tr>\n",
       "    <tr>\n",
       "      <th>1216</th>\n",
       "      <td>1754</td>\n",
       "      <td>buildings%20burning</td>\n",
       "      <td>Selma2Oakland</td>\n",
       "      <td>People are more worried about the burning of buildings than black people losing their lives disgusting.</td>\n",
       "      <td>1</td>\n",
       "    </tr>\n",
       "    <tr>\n",
       "      <th>1127</th>\n",
       "      <td>1625</td>\n",
       "      <td>bombed</td>\n",
       "      <td>Ikeja, Nigeria</td>\n",
       "      <td>70 years ago today the United States of America bombed Hiroshima in Japan.</td>\n",
       "      <td>1</td>\n",
       "    </tr>\n",
       "    <tr>\n",
       "      <th>4613</th>\n",
       "      <td>6556</td>\n",
       "      <td>injury</td>\n",
       "      <td>Los Angeles</td>\n",
       "      <td>Dr Jack Stern Interview Ending Back Pain for #Military #Injury. Listen now: http://t.co/YhH7X0MAio</td>\n",
       "      <td>0</td>\n",
       "    </tr>\n",
       "    <tr>\n",
       "      <th>2011</th>\n",
       "      <td>2887</td>\n",
       "      <td>damage</td>\n",
       "      <td>NaN</td>\n",
       "      <td>@WonderousAllure crosses her arms to cover her hands from doing anymore damage. 'H-Hello..'</td>\n",
       "      <td>0</td>\n",
       "    </tr>\n",
       "    <tr>\n",
       "      <th>4539</th>\n",
       "      <td>6453</td>\n",
       "      <td>injured</td>\n",
       "      <td>Worldwide</td>\n",
       "      <td>Top Stories - Google 4 dead dozens injured in Gaza blast near house leveled in summer warÛ_ http://t.co/P3o71DZ992</td>\n",
       "      <td>1</td>\n",
       "    </tr>\n",
       "    <tr>\n",
       "      <th>4132</th>\n",
       "      <td>5875</td>\n",
       "      <td>hailstorm</td>\n",
       "      <td>far away</td>\n",
       "      <td>Calgary news weather and traffic for August 5 * ~ 45 http://t.co/zAGBMlSf4H http://t.co/HVYXehXBmq</td>\n",
       "      <td>0</td>\n",
       "    </tr>\n",
       "    <tr>\n",
       "      <th>702</th>\n",
       "      <td>1010</td>\n",
       "      <td>blazing</td>\n",
       "      <td>Suitland</td>\n",
       "      <td>@OfficialTJonez Your 'Lost For Words' made me a new fan of yours fam. Crazy skills beyond blessed! Keep blazing dude made love and respect!</td>\n",
       "      <td>0</td>\n",
       "    </tr>\n",
       "  </tbody>\n",
       "</table>\n",
       "</div>"
      ],
      "text/plain": [
       "        id              keyword        location  \\\n",
       "2111  3034                death             NaN   \n",
       "1731  2494             collided             NaN   \n",
       "987   1432       body%20bagging      ATL ? SEA    \n",
       "1216  1754  buildings%20burning   Selma2Oakland   \n",
       "1127  1625               bombed  Ikeja, Nigeria   \n",
       "4613  6556               injury     Los Angeles   \n",
       "2011  2887               damage             NaN   \n",
       "4539  6453              injured       Worldwide   \n",
       "4132  5875            hailstorm        far away   \n",
       "702   1010              blazing        Suitland   \n",
       "\n",
       "                                                                                                                                             text  \\\n",
       "2111                                                                                          New crime: knowing your rights. Punishable by death   \n",
       "1731                It's Even Worse Than It Looks: How the American Constitutional System Collided With the New PoliticÛ_ http://t.co/Gfa3SOw9zn   \n",
       "987                                                                                                             Drake is really body bagging meek   \n",
       "1216                                      People are more worried about the burning of buildings than black people losing their lives disgusting.   \n",
       "1127                                                                   70 years ago today the United States of America bombed Hiroshima in Japan.   \n",
       "4613                                           Dr Jack Stern Interview Ending Back Pain for #Military #Injury. Listen now: http://t.co/YhH7X0MAio   \n",
       "2011                                                  @WonderousAllure crosses her arms to cover her hands from doing anymore damage. 'H-Hello..'   \n",
       "4539                          Top Stories - Google 4 dead dozens injured in Gaza blast near house leveled in summer warÛ_ http://t.co/P3o71DZ992   \n",
       "4132                                           Calgary news weather and traffic for August 5 * ~ 45 http://t.co/zAGBMlSf4H http://t.co/HVYXehXBmq   \n",
       "702   @OfficialTJonez Your 'Lost For Words' made me a new fan of yours fam. Crazy skills beyond blessed! Keep blazing dude made love and respect!   \n",
       "\n",
       "      target  \n",
       "2111       0  \n",
       "1731       0  \n",
       "987        0  \n",
       "1216       1  \n",
       "1127       1  \n",
       "4613       0  \n",
       "2011       0  \n",
       "4539       1  \n",
       "4132       0  \n",
       "702        0  "
      ]
     },
     "execution_count": 3,
     "metadata": {},
     "output_type": "execute_result"
    }
   ],
   "source": [
    "train_df.sample(10)"
   ]
  },
  {
   "cell_type": "code",
   "execution_count": 4,
   "metadata": {},
   "outputs": [
    {
     "name": "stdout",
     "output_type": "stream",
     "text": [
      "<class 'pandas.core.frame.DataFrame'>\n",
      "RangeIndex: 7613 entries, 0 to 7612\n",
      "Data columns (total 5 columns):\n",
      " #   Column    Non-Null Count  Dtype \n",
      "---  ------    --------------  ----- \n",
      " 0   id        7613 non-null   int64 \n",
      " 1   keyword   7552 non-null   object\n",
      " 2   location  5080 non-null   object\n",
      " 3   text      7613 non-null   object\n",
      " 4   target    7613 non-null   int64 \n",
      "dtypes: int64(2), object(3)\n",
      "memory usage: 297.5+ KB\n"
     ]
    },
    {
     "data": {
      "text/plain": [
       "None"
      ]
     },
     "metadata": {},
     "output_type": "display_data"
    },
    {
     "name": "stdout",
     "output_type": "stream",
     "text": [
      "<class 'pandas.core.frame.DataFrame'>\n",
      "RangeIndex: 3263 entries, 0 to 3262\n",
      "Data columns (total 4 columns):\n",
      " #   Column    Non-Null Count  Dtype \n",
      "---  ------    --------------  ----- \n",
      " 0   id        3263 non-null   int64 \n",
      " 1   keyword   3237 non-null   object\n",
      " 2   location  2158 non-null   object\n",
      " 3   text      3263 non-null   object\n",
      "dtypes: int64(1), object(3)\n",
      "memory usage: 102.1+ KB\n"
     ]
    },
    {
     "data": {
      "text/plain": [
       "None"
      ]
     },
     "metadata": {},
     "output_type": "display_data"
    }
   ],
   "source": [
    "display(train_df.info())\n",
    "display(test_df.info())"
   ]
  },
  {
   "cell_type": "code",
   "execution_count": 5,
   "metadata": {},
   "outputs": [
    {
     "name": "stdout",
     "output_type": "stream",
     "text": [
      "Training Set\n",
      "\n",
      "The keyword feature contains 1.0% null values\n",
      "The location feature contains 33.0% null values\n",
      "\n",
      "Test Set\n",
      "\n",
      "The keyword feature contains 1.0% null values\n",
      "The location feature contains 34.0% null values\n",
      "\n"
     ]
    }
   ],
   "source": [
    "print(\"Training Set\\n\")\n",
    "print(f\"The keyword feature contains {round(train_df['keyword'].isna().sum()/len(train_df),2)*100}% null values\")\n",
    "print(f\"The location feature contains {round(train_df['location'].isna().sum()/len(train_df),2)*100}% null values\\n\")\n",
    "\n",
    "print(\"Test Set\\n\")\n",
    "print(f\"The keyword feature contains {round(test_df['keyword'].isna().sum()/len(test_df),2)*100}% null values\")\n",
    "print(f\"The location feature contains {round(test_df['location'].isna().sum()/len(test_df),2)*100}% null values\\n\")"
   ]
  },
  {
   "cell_type": "markdown",
   "metadata": {},
   "source": [
    "The initial examination of the data shows each set has four features (counting the id but not counting the target). There are 7613 entries in the training set and 3263 in the test set.\n",
    "\n",
    "In both cases around 1% of the keyword feature is null and a third of the location feature is null.\n",
    "\n",
    "The missing keyword and location data could be left null, though it may be possible to impute some of the missing data should it seem beneficial.\n",
    "\n",
    "Some initial preprocessing, e.g. converting the text all to lower case and removing stop words and punctuation will improve later text analysis. However, as the dataframe is not too large and each main text entry limited to tweet length, I will retain the original form as the presence of some punctuation features may be useful."
   ]
  },
  {
   "cell_type": "code",
   "execution_count": 6,
   "metadata": {},
   "outputs": [],
   "source": [
    "# Write function to add a cleaned text feature to a dataframe and also replace %20 with a space in the keyword feature\n",
    "def clean_text(df):\n",
    "    df = df.copy(deep=True)\n",
    "    df['cleaned_text'] = df['text'].apply(lambda x: x.lower())\n",
    "    df['cleaned_text'].apply(lambda x: [word for word in x if word not in stop])\n",
    "    df['cleaned_text'] = df['cleaned_text'].apply(lambda x: re.sub(r\"@[\\S]+\",\"\",x)) #remove twitter handles\n",
    "    df['cleaned_text'] = df['cleaned_text'].apply(lambda x: re.sub(r\"http[\\S]+\",\"\",x)) # remove web addresses\n",
    "    df['cleaned_text'] = df['cleaned_text'].apply(lambda x: re.sub(r\"\\n\",\" \",x)) # remove line breaks\n",
    "    df['cleaned_text'] = df['cleaned_text'].apply(lambda x: re.sub(r\"-\",\" \",x)) # replace dashes with spaces\n",
    "    df['cleaned_text'] = df['cleaned_text'].apply(lambda x: re.sub(r\"[^a-zA-Z0-9\\s]\",\"\",x)) \n",
    "    \n",
    "    df['keyword'] = df['keyword'].apply(lambda x: str(x).lower())\n",
    "    df['keyword'] = df['keyword'].apply(lambda x: str(x).replace(\"%20\",\" \"))\n",
    "    df['keyword'] = df['keyword'].replace('nan',np.NaN)\n",
    "    \n",
    "    df['location'] = df['location'].apply(lambda x: str(x).lower())\n",
    "    df['location'] = df['location'].replace('nan',np.NaN)\n",
    "        \n",
    "    return df"
   ]
  },
  {
   "cell_type": "code",
   "execution_count": 7,
   "metadata": {},
   "outputs": [
    {
     "data": {
      "text/html": [
       "<div>\n",
       "<style scoped>\n",
       "    .dataframe tbody tr th:only-of-type {\n",
       "        vertical-align: middle;\n",
       "    }\n",
       "\n",
       "    .dataframe tbody tr th {\n",
       "        vertical-align: top;\n",
       "    }\n",
       "\n",
       "    .dataframe thead th {\n",
       "        text-align: right;\n",
       "    }\n",
       "</style>\n",
       "<table border=\"1\" class=\"dataframe\">\n",
       "  <thead>\n",
       "    <tr style=\"text-align: right;\">\n",
       "      <th></th>\n",
       "      <th>id</th>\n",
       "      <th>keyword</th>\n",
       "      <th>location</th>\n",
       "      <th>text</th>\n",
       "      <th>target</th>\n",
       "      <th>cleaned_text</th>\n",
       "    </tr>\n",
       "  </thead>\n",
       "  <tbody>\n",
       "    <tr>\n",
       "      <th>6528</th>\n",
       "      <td>9338</td>\n",
       "      <td>survive</td>\n",
       "      <td>death star</td>\n",
       "      <td>If I survive I'll see you tomorrow</td>\n",
       "      <td>0</td>\n",
       "      <td>if i survive ill see you tomorrow</td>\n",
       "    </tr>\n",
       "    <tr>\n",
       "      <th>3613</th>\n",
       "      <td>5157</td>\n",
       "      <td>fatal</td>\n",
       "      <td>NaN</td>\n",
       "      <td>11-Year-Old Boy Charged With Manslaughter of Toddler: Report: An 11-year-old boy has been charged with manslaughter over the fatal sh...</td>\n",
       "      <td>1</td>\n",
       "      <td>11 year old boy charged with manslaughter of toddler report an 11 year old boy has been charged with manslaughter over the fatal sh</td>\n",
       "    </tr>\n",
       "    <tr>\n",
       "      <th>4459</th>\n",
       "      <td>6342</td>\n",
       "      <td>hostages</td>\n",
       "      <td>midwest</td>\n",
       "      <td>Sinjar Massacre Yazidis Blast Lack of Action OveråÊHostages http://t.co/Carvv6gsRb http://t.co/lAn76ZqKxG</td>\n",
       "      <td>1</td>\n",
       "      <td>sinjar massacre yazidis blast lack of action overhostages</td>\n",
       "    </tr>\n",
       "    <tr>\n",
       "      <th>7471</th>\n",
       "      <td>10688</td>\n",
       "      <td>wreck</td>\n",
       "      <td>1/10 taron squad</td>\n",
       "      <td>Season 3 of New Girl was such a emotional train wreck I just wanted to cry laugh and eat a lot of ice cream</td>\n",
       "      <td>0</td>\n",
       "      <td>season 3 of new girl was such a emotional train wreck i just wanted to cry laugh and eat a lot of ice cream</td>\n",
       "    </tr>\n",
       "    <tr>\n",
       "      <th>1334</th>\n",
       "      <td>1927</td>\n",
       "      <td>burning buildings</td>\n",
       "      <td>we?it û¢ ixwin</td>\n",
       "      <td>@Louis_Tomlinson incredible? THE CHILDREN WERE SCREAMING BUILDINGS WERE BURNING AND I WAS DANCING IN THE ASHES</td>\n",
       "      <td>1</td>\n",
       "      <td>incredible the children were screaming buildings were burning and i was dancing in the ashes</td>\n",
       "    </tr>\n",
       "  </tbody>\n",
       "</table>\n",
       "</div>"
      ],
      "text/plain": [
       "         id            keyword          location  \\\n",
       "6528   9338            survive        death star   \n",
       "3613   5157              fatal               NaN   \n",
       "4459   6342           hostages           midwest   \n",
       "7471  10688              wreck  1/10 taron squad   \n",
       "1334   1927  burning buildings   we?it û¢ ixwin   \n",
       "\n",
       "                                                                                                                                          text  \\\n",
       "6528                                                                                                        If I survive I'll see you tomorrow   \n",
       "3613  11-Year-Old Boy Charged With Manslaughter of Toddler: Report: An 11-year-old boy has been charged with manslaughter over the fatal sh...   \n",
       "4459                                 Sinjar Massacre Yazidis Blast Lack of Action OveråÊHostages http://t.co/Carvv6gsRb http://t.co/lAn76ZqKxG   \n",
       "7471                               Season 3 of New Girl was such a emotional train wreck I just wanted to cry laugh and eat a lot of ice cream   \n",
       "1334                            @Louis_Tomlinson incredible? THE CHILDREN WERE SCREAMING BUILDINGS WERE BURNING AND I WAS DANCING IN THE ASHES   \n",
       "\n",
       "      target  \\\n",
       "6528       0   \n",
       "3613       1   \n",
       "4459       1   \n",
       "7471       0   \n",
       "1334       1   \n",
       "\n",
       "                                                                                                                             cleaned_text  \n",
       "6528                                                                                                    if i survive ill see you tomorrow  \n",
       "3613  11 year old boy charged with manslaughter of toddler report an 11 year old boy has been charged with manslaughter over the fatal sh  \n",
       "4459                                                                          sinjar massacre yazidis blast lack of action overhostages    \n",
       "7471                          season 3 of new girl was such a emotional train wreck i just wanted to cry laugh and eat a lot of ice cream  \n",
       "1334                                         incredible the children were screaming buildings were burning and i was dancing in the ashes  "
      ]
     },
     "execution_count": 7,
     "metadata": {},
     "output_type": "execute_result"
    }
   ],
   "source": [
    "train_df = clean_text(train_df)\n",
    "test_df = clean_text(test_df)\n",
    "\n",
    "train_df.sample(5)"
   ]
  },
  {
   "cell_type": "markdown",
   "metadata": {},
   "source": [
    "## EDA\n",
    "### Initial Hypotheses\n",
    "\n",
    "Some intitial ideas for areas to investigate are:\n",
    "- Does having a location make the tweet more likely to be real\n",
    "- Is the number of characters in a tweet significant\n",
    "- Can punctuation, specifically the presence of exclamation marks, tell us anything\n",
    "- Does whether or not a tweet is directed @ someone have an impact\n",
    "- Does the tweet contain a web address"
   ]
  },
  {
   "cell_type": "code",
   "execution_count": 8,
   "metadata": {},
   "outputs": [
    {
     "data": {
      "image/png": "[encoded data removed]",
      "text/plain": [
       "<Figure size 432x288 with 1 Axes>"
      ]
     },
     "metadata": {
      "needs_background": "light"
     },
     "output_type": "display_data"
    }
   ],
   "source": [
    "# Look at ratio of True to False tweets in the training set\n",
    "_ = sns.countplot(x='target',data=train_df)"
   ]
  },
  {
   "cell_type": "markdown",
   "metadata": {},
   "source": [
    "##### Location\n",
    "\n",
    "Look at whether there are any differences between the location entries between tweets that were True and False"
   ]
  },
  {
   "cell_type": "code",
   "execution_count": 9,
   "metadata": {},
   "outputs": [
    {
     "data": {
      "image/png": "[encoded data removed]",
      "text/plain": [
       "<Figure size 864x576 with 2 Axes>"
      ]
     },
     "metadata": {
      "needs_background": "light"
     },
     "output_type": "display_data"
    }
   ],
   "source": [
    "true_locations = train_df['location'][train_df['target']==1].value_counts().head(10)\n",
    "false_locations = train_df['location'][train_df['target']==0].value_counts().head(10)\n",
    "\n",
    "fig, ax= plt.subplots(1,2,figsize=(12,8))\n",
    "_ = true_locations.sort_values().plot.barh(ax=ax[0],title='Top 10 True Locations',color=colours[1],xlim=[0,70])\n",
    "_ = false_locations.sort_values().plot.barh(ax=ax[1],title='Top 10 False Locations',xlim=[0,70])"
   ]
  },
  {
   "cell_type": "code",
   "execution_count": 10,
   "metadata": {},
   "outputs": [
    {
     "name": "stdout",
     "output_type": "stream",
     "text": [
      "True tweets have 32.86% of locations missing\n",
      "\n",
      "False tweets have 33.58% of locations missing\n"
     ]
    }
   ],
   "source": [
    "missing_locations_true = round(train_df['location'][train_df['target']==1].isna().sum()\\\n",
    "                               /len(train_df[train_df['target']==1])*100,2)\n",
    "missing_locations_false = round(train_df['location'][train_df['target']==0].isna().sum()\\\n",
    "                               /len(train_df[train_df['target']==0])*100,2)\n",
    "\n",
    "print(f\"\"\"True tweets have {missing_locations_true}% of locations missing\\n\n",
    "False tweets have {missing_locations_false}% of locations missing\"\"\")"
   ]
  },
  {
   "cell_type": "markdown",
   "metadata": {},
   "source": [
    "##### Keyword"
   ]
  },
  {
   "cell_type": "code",
   "execution_count": 11,
   "metadata": {},
   "outputs": [
    {
     "data": {
      "image/png": "[encoded data removed]",
      "text/plain": [
       "<Figure size 864x576 with 2 Axes>"
      ]
     },
     "metadata": {
      "needs_background": "light"
     },
     "output_type": "display_data"
    }
   ],
   "source": [
    "true_keywords = train_df['keyword'][train_df['target']==1].value_counts().head(20)\n",
    "false_keywords = train_df['keyword'][train_df['target']==0].value_counts().head(20)\n",
    "\n",
    "fig, ax = plt.subplots(1,2,figsize=(12,8))\n",
    "_ = true_keywords.sort_values().plot.barh(ax=ax[0],title='Top 10 True keywords',color=colours[1],xlim=[0,45])\n",
    "_ = false_keywords.sort_values().plot.barh(ax=ax[1],title='Top 10 False keyword',xlim=[0,45])"
   ]
  },
  {
   "cell_type": "markdown",
   "metadata": {},
   "source": [
    "There are a number of two word entries, it may be beneficial to simplify these by just taking the first word in all cases."
   ]
  },
  {
   "cell_type": "code",
   "execution_count": 12,
   "metadata": {},
   "outputs": [
    {
     "data": {
      "image/png": "[encoded data removed]",
      "text/plain": [
       "<Figure size 864x576 with 2 Axes>"
      ]
     },
     "metadata": {
      "needs_background": "light"
     },
     "output_type": "display_data"
    }
   ],
   "source": [
    "single_word_train = train_df['keyword'].apply(lambda x: str(x).split(\" \")[0])\n",
    "single_word_train = single_word_train.replace('nan',np.NaN) # .split on an empty string returns nan\n",
    "\n",
    "true_keywords = single_word_train[train_df['target']==1].value_counts().head(20)\n",
    "false_keywords = single_word_train[train_df['target']==0].value_counts().head(20)\n",
    "\n",
    "fig, ax = plt.subplots(1,2,figsize=(12,8))\n",
    "_ = true_keywords.sort_values().plot.barh(ax=ax[0],title='Top 10 True keywords',color=colours[1],xlim=[0,110])\n",
    "_ = false_keywords.sort_values().plot.barh(ax=ax[1],title='Top 10 False keyword',xlim=[0,110])"
   ]
  },
  {
   "cell_type": "code",
   "execution_count": 13,
   "metadata": {},
   "outputs": [
    {
     "data": {
      "text/plain": [
       "{'burning', 'emergency', 'fire'}"
      ]
     },
     "execution_count": 13,
     "metadata": {},
     "output_type": "execute_result"
    }
   ],
   "source": [
    "true_keywords_set = set(true_keywords.index)\n",
    "false_keywords_set = set(false_keywords.index)\n",
    "\n",
    "true_keywords_set.intersection(false_keywords_set)"
   ]
  },
  {
   "cell_type": "markdown",
   "metadata": {},
   "source": [
    "The top 20 keywords appearing in True and False texts only contain three of the same words. The presence of one of the other 17 words for each case could be a useful binary feature."
   ]
  },
  {
   "cell_type": "markdown",
   "metadata": {},
   "source": [
    "##### Text\n",
    "###### Number of characters in a tweet"
   ]
  },
  {
   "cell_type": "code",
   "execution_count": 14,
   "metadata": {},
   "outputs": [],
   "source": [
    "true_df = train_df[train_df['target']==1]\n",
    "false_df = train_df[train_df['target']==0]"
   ]
  },
  {
   "cell_type": "code",
   "execution_count": 15,
   "metadata": {},
   "outputs": [
    {
     "data": {
      "image/png": "[encoded data removed]",
      "text/plain": [
       "<Figure size 720x432 with 1 Axes>"
      ]
     },
     "metadata": {
      "needs_background": "light"
     },
     "output_type": "display_data"
    },
    {
     "name": "stdout",
     "output_type": "stream",
     "text": [
      "\n",
      "True uncleaned tweets have on average 13.0% more characters\n",
      "\n"
     ]
    },
    {
     "data": {
      "image/png": "[encoded data removed]",
      "text/plain": [
       "<Figure size 720x432 with 1 Axes>"
      ]
     },
     "metadata": {
      "needs_background": "light"
     },
     "output_type": "display_data"
    }
   ],
   "source": [
    "# Average number of characters in an uncleaned tweet, true vs False\n",
    "true_text_chars = true_df['text'].apply(lambda x: len(x))\n",
    "false_text_chars = false_df['text'].apply(lambda x: len(x))\n",
    "\n",
    "fig = plt.figure(figsize = (10,6))\n",
    "plt.xlim(0.25,1.25)\n",
    "medianprops = dict(linewidth=2.5, color='black')\n",
    "ax = plt.boxplot([true_text_chars,false_text_chars],positions=[0.5,1],labels=['True','False'],\\\n",
    "                 patch_artist=True,medianprops=medianprops)\n",
    "plt.tick_params(axis='both', which='major', labelsize=12)\n",
    "fig.suptitle('Average Characters per Uncleaned Tweet',fontsize='14',y=0.93)\n",
    "colors = [colours[1], colours[0]]\n",
    "for patch, color in zip(ax['boxes'], colors):\n",
    "    patch.set_facecolor(color)\n",
    "plt.show()\n",
    "\n",
    "print(f'''\\nTrue uncleaned tweets have on average {round((np.mean(true_text_chars)/np.mean(false_text_chars)-1)*100,0)}\\\n",
    "% more characters\\n''')\n",
    "\n",
    "fig = plt.figure(figsize=(10,6))\n",
    "_ = sns.distplot(true_text_chars, bins = 100,color=current_palette[1])\\\n",
    ".set_title('Distribution of Characters in uncleaned Tweet')\n",
    "_ = sns.distplot(false_text_chars,bins=100)\n",
    "_ = fig.legend(['True Tweets','False_Tweets'],loc=(0.75,0.8))"
   ]
  },
  {
   "cell_type": "code",
   "execution_count": 16,
   "metadata": {},
   "outputs": [
    {
     "data": {
      "image/png": "[encoded data removed]",
      "text/plain": [
       "<Figure size 720x432 with 1 Axes>"
      ]
     },
     "metadata": {
      "needs_background": "light"
     },
     "output_type": "display_data"
    },
    {
     "name": "stdout",
     "output_type": "stream",
     "text": [
      "\n",
      "True tweets have on average 11.0% more characters\n",
      "\n"
     ]
    },
    {
     "data": {
      "image/png": "[encoded data removed]",
      "text/plain": [
       "<Figure size 720x432 with 1 Axes>"
      ]
     },
     "metadata": {
      "needs_background": "light"
     },
     "output_type": "display_data"
    }
   ],
   "source": [
    "# Average number of characters in an cleaned tweet, true vs False\n",
    "true_text_chars = true_df['cleaned_text'].apply(lambda x: len(x))\n",
    "false_text_chars = false_df['cleaned_text'].apply(lambda x: len(x))\n",
    "\n",
    "fig = plt.figure(figsize = (10,6))\n",
    "plt.xlim(0.25,1.25)\n",
    "medianprops = dict(linewidth=2.5, color='black')\n",
    "ax = plt.boxplot([true_text_chars,false_text_chars],positions=[0.5,1],labels=['True','False'],\\\n",
    "                 patch_artist=True,medianprops=medianprops)\n",
    "plt.tick_params(axis='both', which='major', labelsize=12)\n",
    "fig.suptitle('Average Characters per cleaned Tweet',fontsize='14',y=0.93)\n",
    "colors = [colours[1], colours[0]]\n",
    "for patch, color in zip(ax['boxes'], colors):\n",
    "    patch.set_facecolor(color)\n",
    "plt.show()\n",
    "\n",
    "print(f'''\\nTrue tweets have on average {round((np.mean(true_text_chars)/np.mean(false_text_chars)-1)*100,0)}\\\n",
    "% more characters\\n''')\n",
    "\n",
    "fig = plt.figure(figsize=(10,6))\n",
    "_ = sns.distplot(true_text_chars, bins = 100,color=current_palette[1])\\\n",
    "        .set_title('Distribution of Characters in cleaned Tweets')\n",
    "_ = sns.distplot(false_text_chars,bins=100)\n",
    "_ = fig.legend(['True cleaned Tweets','False_Tweets'],loc=(0.75,0.8))"
   ]
  },
  {
   "cell_type": "markdown",
   "metadata": {},
   "source": [
    "There is a bigger difference in tweet length in the uncleaned data. Purely looking at the tweet length might not be the best approach, creating one feature for tweets less than 75 characters long and another for tweets between 125 and 145 characters looks more promising."
   ]
  },
  {
   "cell_type": "markdown",
   "metadata": {},
   "source": [
    "###### Presence of \"@\""
   ]
  },
  {
   "cell_type": "code",
   "execution_count": 17,
   "metadata": {},
   "outputs": [],
   "source": [
    "# Create columns for if a tweet starts with \"@\" and for if it contains an \"@\" at all\n",
    "\n",
    "train_df['starts_with_at'] = train_df['text'].apply(lambda x: np.where(x.startswith('@'),1,0))\n",
    "train_df['not_start_at'] = train_df['text'].apply(lambda x: np.where(x.find('@')>0,1,0))\n",
    "train_df['contains_at'] = train_df['text'].apply(lambda x: np.where(x.find('@')>-1,1,0))"
   ]
  },
  {
   "cell_type": "code",
   "execution_count": 18,
   "metadata": {},
   "outputs": [
    {
     "data": {
      "text/html": [
       "<div>\n",
       "<style scoped>\n",
       "    .dataframe tbody tr th:only-of-type {\n",
       "        vertical-align: middle;\n",
       "    }\n",
       "\n",
       "    .dataframe tbody tr th {\n",
       "        vertical-align: top;\n",
       "    }\n",
       "\n",
       "    .dataframe thead th {\n",
       "        text-align: right;\n",
       "    }\n",
       "</style>\n",
       "<table border=\"1\" class=\"dataframe\">\n",
       "  <thead>\n",
       "    <tr style=\"text-align: right;\">\n",
       "      <th>target</th>\n",
       "      <th>0</th>\n",
       "      <th>1</th>\n",
       "    </tr>\n",
       "  </thead>\n",
       "  <tbody>\n",
       "    <tr>\n",
       "      <th>starts_with_at</th>\n",
       "      <td>0.216260</td>\n",
       "      <td>0.124732</td>\n",
       "    </tr>\n",
       "    <tr>\n",
       "      <th>not_start_at</th>\n",
       "      <td>0.097651</td>\n",
       "      <td>0.081932</td>\n",
       "    </tr>\n",
       "    <tr>\n",
       "      <th>contains_at</th>\n",
       "      <td>0.313911</td>\n",
       "      <td>0.206665</td>\n",
       "    </tr>\n",
       "  </tbody>\n",
       "</table>\n",
       "</div>"
      ],
      "text/plain": [
       "target                 0         1\n",
       "starts_with_at  0.216260  0.124732\n",
       "not_start_at    0.097651  0.081932\n",
       "contains_at     0.313911  0.206665"
      ]
     },
     "execution_count": 18,
     "metadata": {},
     "output_type": "execute_result"
    }
   ],
   "source": [
    "at_analysis = train_df.groupby('target').agg({'starts_with_at':np.mean,'not_start_at':np.mean,'contains_at':np.mean})\n",
    "\n",
    "at_analysis.T"
   ]
  },
  {
   "cell_type": "markdown",
   "metadata": {},
   "source": [
    "If a tweet starts with an '@' it is over 70% more likely to be False than True whereas if a Tweet contains an '@' it is over 55% more likely to be True, but this is applicable to more Tweets. Although the contains feature would have a larger applicable span the majority of the predictive power comes from if the Tweet starts with the '@' symbol so I will use this feature."
   ]
  },
  {
   "cell_type": "code",
   "execution_count": 19,
   "metadata": {},
   "outputs": [
    {
     "data": {
      "text/html": [
       "<div>\n",
       "<style scoped>\n",
       "    .dataframe tbody tr th:only-of-type {\n",
       "        vertical-align: middle;\n",
       "    }\n",
       "\n",
       "    .dataframe tbody tr th {\n",
       "        vertical-align: top;\n",
       "    }\n",
       "\n",
       "    .dataframe thead th {\n",
       "        text-align: right;\n",
       "    }\n",
       "</style>\n",
       "<table border=\"1\" class=\"dataframe\">\n",
       "  <thead>\n",
       "    <tr style=\"text-align: right;\">\n",
       "      <th>target</th>\n",
       "      <th>0</th>\n",
       "      <th>1</th>\n",
       "    </tr>\n",
       "  </thead>\n",
       "  <tbody>\n",
       "    <tr>\n",
       "      <th>contains_exclamation</th>\n",
       "      <td>0.120451</td>\n",
       "      <td>0.059615</td>\n",
       "    </tr>\n",
       "  </tbody>\n",
       "</table>\n",
       "</div>"
      ],
      "text/plain": [
       "target                       0         1\n",
       "contains_exclamation  0.120451  0.059615"
      ]
     },
     "execution_count": 19,
     "metadata": {},
     "output_type": "execute_result"
    }
   ],
   "source": [
    "train_df['contains_exclamation'] = train_df['text'].apply(lambda x: np.where(x.find('!')>0,1,0))\n",
    "\n",
    "exclamation_analysis = train_df.groupby('target').agg({'contains_exclamation':np.mean})\n",
    "\n",
    "exclamation_analysis.T"
   ]
  },
  {
   "cell_type": "markdown",
   "metadata": {},
   "source": [
    "If a Tweet contains an exclamation mark it is more than twice as likely to be False, although only a low percenage of all tweets contain an !"
   ]
  },
  {
   "cell_type": "markdown",
   "metadata": {},
   "source": [
    "## Data Processing\n",
    "Having finished the first phase of EDA I will now move on to using machine learning to extract useful information from the text data and then to generate some models. As part of this process I will split the training set into training and validation sets. Before this I will process the training and test sets so that they contain the useful information fields identified above.\n",
    "\n",
    "I will also apply th clean_text function defined earlier.\n",
    "\n",
    "- Create a cleaned text field\n",
    "- Create a binary indicator for whether a Tweet contains one of the top 17 keywords that are not shared by True and False Tweets\n",
    "- Create binary indicators for whether an uncleaned Tweet has < 75 characters of between 125 and 145 characters\n",
    "- Create a binary indicator for whether a Tweet starts with '@'\n",
    "- Create a binary indicator for wether a Tweet contains an '!'"
   ]
  },
  {
   "cell_type": "code",
   "execution_count": 20,
   "metadata": {},
   "outputs": [],
   "source": [
    "# Use previously generate list of keywords to generate which of the top 20 are unique to the True and False conditions\n",
    "true_top_20_keywords = true_keywords_set - true_keywords_set.intersection(false_keywords_set)\n",
    "false_top_20_keywords = false_keywords_set - true_keywords_set.intersection(false_keywords_set)\n",
    "\n",
    "def add_eda_features(df):\n",
    "    df = df.copy(deep=True) # Create copy of passed data frame to manipulate\n",
    "    \n",
    "    df['keyword'] = df['keyword'].replace(np.NaN,'nan') # remove any numerical NaNs for next step\n",
    "    df['true_top_20_keyword'] = df['keyword'].apply(lambda x:\\\n",
    "                                                np.where(any([word in x for word in true_top_20_keywords])==True,1,0))\n",
    "    df['false_top_20_keyword'] = df['keyword'].apply(lambda x:\\\n",
    "                                                np.where(any([word in x for word in false_top_20_keywords])==True,1,0))\n",
    "    df['less_than_75c'] = df['text'].apply(lambda x: np.where(len(x)<75,1,0))\n",
    "    df['125c_to_145c'] = df['text'].apply(lambda x: np.where(125<=len(x)<=145,1,0))\n",
    "    df['starts_with_at'] = df['text'].apply(lambda x: np.where(x.startswith('@'),1,0))\n",
    "    df['contains_exclamation'] = df['text'].apply(lambda x: np.where(x.find('!')>0,1,0))\n",
    "    \n",
    "    return df\n",
    "    "
   ]
  },
  {
   "cell_type": "code",
   "execution_count": 21,
   "metadata": {},
   "outputs": [],
   "source": [
    "train_df = add_eda_features(clean_text(train))\n",
    "test_df = add_eda_features(clean_text(test))"
   ]
  },
  {
   "cell_type": "code",
   "execution_count": 22,
   "metadata": {},
   "outputs": [
    {
     "data": {
      "text/html": [
       "<div>\n",
       "<style scoped>\n",
       "    .dataframe tbody tr th:only-of-type {\n",
       "        vertical-align: middle;\n",
       "    }\n",
       "\n",
       "    .dataframe tbody tr th {\n",
       "        vertical-align: top;\n",
       "    }\n",
       "\n",
       "    .dataframe thead th {\n",
       "        text-align: right;\n",
       "    }\n",
       "</style>\n",
       "<table border=\"1\" class=\"dataframe\">\n",
       "  <thead>\n",
       "    <tr style=\"text-align: right;\">\n",
       "      <th></th>\n",
       "      <th>id</th>\n",
       "      <th>keyword</th>\n",
       "      <th>location</th>\n",
       "      <th>text</th>\n",
       "      <th>target</th>\n",
       "      <th>cleaned_text</th>\n",
       "      <th>true_top_20_keyword</th>\n",
       "      <th>false_top_20_keyword</th>\n",
       "      <th>less_than_75c</th>\n",
       "      <th>125c_to_145c</th>\n",
       "      <th>starts_with_at</th>\n",
       "      <th>contains_exclamation</th>\n",
       "    </tr>\n",
       "  </thead>\n",
       "  <tbody>\n",
       "    <tr>\n",
       "      <th>4219</th>\n",
       "      <td>5992</td>\n",
       "      <td>hazardous</td>\n",
       "      <td>united states</td>\n",
       "      <td>JAX issues Hazardous Weather Outlook (HWO)  http://t.co/u9fCb8dz3h #WX</td>\n",
       "      <td>1</td>\n",
       "      <td>jax issues hazardous weather outlook hwo   wx</td>\n",
       "      <td>0</td>\n",
       "      <td>0</td>\n",
       "      <td>1</td>\n",
       "      <td>0</td>\n",
       "      <td>0</td>\n",
       "      <td>0</td>\n",
       "    </tr>\n",
       "  </tbody>\n",
       "</table>\n",
       "</div>"
      ],
      "text/plain": [
       "        id    keyword       location  \\\n",
       "4219  5992  hazardous  united states   \n",
       "\n",
       "                                                                        text  \\\n",
       "4219  JAX issues Hazardous Weather Outlook (HWO)  http://t.co/u9fCb8dz3h #WX   \n",
       "\n",
       "      target                                   cleaned_text  \\\n",
       "4219       1  jax issues hazardous weather outlook hwo   wx   \n",
       "\n",
       "      true_top_20_keyword  false_top_20_keyword  less_than_75c  125c_to_145c  \\\n",
       "4219                    0                     0              1             0   \n",
       "\n",
       "      starts_with_at  contains_exclamation  \n",
       "4219               0                     0  "
      ]
     },
     "execution_count": 22,
     "metadata": {},
     "output_type": "execute_result"
    }
   ],
   "source": [
    "train_df.sample(1)"
   ]
  },
  {
   "cell_type": "markdown",
   "metadata": {},
   "source": [
    "## Tokenization\n",
    "\n",
    "To extract ML compatible features from the tweet content it must be processed into a numerical form, but first the data will be split into a training and validation set to allow for tuning of hyperameters."
   ]
  },
  {
   "cell_type": "code",
   "execution_count": 23,
   "metadata": {},
   "outputs": [],
   "source": [
    "# Split data - as True/False split is quite even there is no need to stratify the split\n",
    "\n",
    "X_train, X_valid, y_train, y_valid = train_test_split(train_df.drop('target',axis=1),train_df['target']\\\n",
    "                                                      , test_size = 0.2, random_state = 27)"
   ]
  },
  {
   "cell_type": "markdown",
   "metadata": {},
   "source": [
    "###### Vectorize Text\n",
    "\n",
    "Use CountVectorizer and TfidfVectorizer to analyse the text of the tweets so the one which yields the best performance can be used in the final models. In both cases I will work on the cleaned text field.\n",
    "\n",
    "The output will be in sparse matrix form."
   ]
  },
  {
   "cell_type": "code",
   "execution_count": 24,
   "metadata": {},
   "outputs": [],
   "source": [
    "# Count Vectorize\n",
    "count_vectorizer = CountVectorizer()\n",
    "text_counts = count_vectorizer.fit_transform(X_train['cleaned_text'])"
   ]
  },
  {
   "cell_type": "code",
   "execution_count": 25,
   "metadata": {},
   "outputs": [],
   "source": [
    "# Tfidf Vectorize\n",
    "tfidf_vectorizer = TfidfVectorizer()\n",
    "text_tfidf = tfidf_vectorizer.fit_transform(X_train['cleaned_text'])"
   ]
  },
  {
   "cell_type": "markdown",
   "metadata": {},
   "source": [
    "The vetorized text outputs are in sparse form but from the earlier analysis there are some features which may be useful that are in dense form. Combining these as is will lead to the dense features dominating. To combine the two pathways I will build an initial model on the vectorized texts and use the predicted probability of one or both of these as a dense feature to combine with the other dense features for a second model. In this approach it will be important to use cross-validation predicted probabilities in order to avoid over fitting."
   ]
  },
  {
   "cell_type": "markdown",
   "metadata": {},
   "source": [
    "## Model building\n",
    "To set a baseline I will build a random guess model which any ML model must perform better than. I will also construct basic models using each of the vectorized features and the dense feature set."
   ]
  },
  {
   "cell_type": "code",
   "execution_count": 26,
   "metadata": {},
   "outputs": [
    {
     "name": "stdout",
     "output_type": "stream",
     "text": [
      "Random guessing generates an f1 score of 0.45\n"
     ]
    }
   ],
   "source": [
    "# Create baseline model of random guesses\n",
    "random_pred = np.random.randint(0,2,(len(y_train),1))\n",
    "f1_rand = f1_score(random_pred,y_train)\n",
    "print(f'Random guessing generates an f1 score of {round(f1_rand,2)}')"
   ]
  },
  {
   "cell_type": "code",
   "execution_count": 27,
   "metadata": {},
   "outputs": [],
   "source": [
    "# Initiate basic models\n",
    "svc = SVC(kernel='rbf')\n",
    "logreg = LogisticRegression()\n",
    "dctree = DecisionTreeClassifier()\n",
    "rforest = RandomForestClassifier()\n",
    "nbayes = MultinomialNB()\n",
    "xgbc = xgb.XGBClassifier(objective = 'binary:logistic')\n",
    "\n",
    "models = [('Support Vector',svc),('Logistic Regression',logreg),('Decision Tree',dctree),('Random Forest',rforest),\\\n",
    "          ('Naive Bayes',nbayes),('XGBoost',xgbc)]"
   ]
  },
  {
   "cell_type": "code",
   "execution_count": 28,
   "metadata": {},
   "outputs": [
    {
     "name": "stdout",
     "output_type": "stream",
     "text": [
      "The Support Vector classifier generates a mean f1 score of 0.66\n",
      "The Logistic Regression classifier generates a mean f1 score of 0.71\n",
      "The Decision Tree classifier generates a mean f1 score of 0.61\n",
      "The Random Forest classifier generates a mean f1 score of 0.64\n",
      "The Naive Bayes classifier generates a mean f1 score of 0.72\n",
      "The XGBoost classifier generates a mean f1 score of 0.6\n"
     ]
    }
   ],
   "source": [
    "# Test basic models on just count vectorized data.\n",
    "for name, model in models:\n",
    "    cv = cross_val_score(model,text_counts[:2000],y_train[:2000],scoring='f1')\n",
    "    print(f'The {name} classifier generates a mean f1 score of {round(cv.mean(),2)}')"
   ]
  },
  {
   "cell_type": "code",
   "execution_count": 29,
   "metadata": {},
   "outputs": [
    {
     "name": "stdout",
     "output_type": "stream",
     "text": [
      "Using tfidf Support Vector classifier generates a mean f1 score of 0.65\n",
      "Using tfidf Logistic Regression classifier generates a mean f1 score of 0.67\n",
      "Using tfidf Decision Tree classifier generates a mean f1 score of 0.59\n",
      "Using tfidf Random Forest classifier generates a mean f1 score of 0.61\n",
      "Using tfidf Naive Bayes classifier generates a mean f1 score of 0.66\n",
      "Using tfidf XGBoost classifier generates a mean f1 score of 0.59\n"
     ]
    }
   ],
   "source": [
    "# Test basic models on just tfidf vectorized data.\n",
    "for name, model in models:\n",
    "    cv = cross_val_score(model,text_tfidf[:2000],y_train[:2000],scoring='f1')\n",
    "    print(f'Using tfidf {name} classifier generates a mean f1 score of {round(cv.mean(),2)}')"
   ]
  },
  {
   "cell_type": "code",
   "execution_count": 30,
   "metadata": {},
   "outputs": [
    {
     "name": "stdout",
     "output_type": "stream",
     "text": [
      "Using dense features Support Vector classifier generates a mean f1 score of 0.54\n",
      "Using dense features Logistic Regression classifier generates a mean f1 score of 0.46\n",
      "Using dense features Decision Tree classifier generates a mean f1 score of 0.54\n",
      "Using dense features Random Forest classifier generates a mean f1 score of 0.54\n",
      "Using dense features Naive Bayes classifier generates a mean f1 score of 0.54\n",
      "Using dense features XGBoost classifier generates a mean f1 score of 0.54\n"
     ]
    }
   ],
   "source": [
    "# Test dense features\n",
    "dense_features = ['true_top_20_keyword','false_top_20_keyword','less_than_75c','125c_to_145c','starts_with_at',\\\n",
    "                 'contains_exclamation']\n",
    "\n",
    "for name, model in models:\n",
    "    cv = cross_val_score(model, X_train[dense_features][:2000],y_train.iloc[:2000],scoring = 'f1')\n",
    "    print(f'Using dense features {name} classifier generates a mean f1 score of {round(cv.mean(),2)}')"
   ]
  },
  {
   "cell_type": "markdown",
   "metadata": {},
   "source": [
    "Of the models trained on the vectorized text data naive bayes and logistic regression work the best across the two vectors. On the dense data all models are comparable, though with significantly worse performance than the text vectors, except for logistic regression. I will now look at combining the outputs of the text vector models whether there is benefit to combining the text vectors and dense features."
   ]
  },
  {
   "cell_type": "code",
   "execution_count": 31,
   "metadata": {},
   "outputs": [],
   "source": [
    "countNB = MultinomialNB()\n",
    "tfidfNB = MultinomialNB()\n",
    "countLogReg = LogisticRegression()\n",
    "tfidfLogReg = LogisticRegression()\n",
    "count_models = [('Count Vectorizer Naive Bayes', countNB), ('Count Vectorizer Logistic Regression',countLogReg)]\n",
    "tfidf_models = [('Tfidf Naive Bayes',tfidfNB),('Tfidf Logistic Regression',tfidfLogReg)]"
   ]
  },
  {
   "cell_type": "code",
   "execution_count": 62,
   "metadata": {},
   "outputs": [
    {
     "name": "stdout",
     "output_type": "stream",
     "text": [
      "The Count Vectorizer Naive Bayes scores 0.75\n",
      "The Count Vectorizer Logistic Regression scores 0.75\n"
     ]
    }
   ],
   "source": [
    "for name,model in count_models:\n",
    "    model.fit(text_counts,y_train)\n",
    "    count_cv = cross_val_predict(model,text_counts,y_train,cv=5,method='predict_proba')\n",
    "    count_score = cross_val_score(model,text_counts,y_train,scoring='f1')\n",
    "    print(f'The {name} scores {round(count_score.mean(),2)}')"
   ]
  },
  {
   "cell_type": "code",
   "execution_count": 63,
   "metadata": {},
   "outputs": [
    {
     "name": "stdout",
     "output_type": "stream",
     "text": [
      "The Tfidf Naive Bayes scores 0.72\n",
      "The Tfidf Logistic Regression scores 0.74\n"
     ]
    }
   ],
   "source": [
    "for name,model in tfidf_models:\n",
    "    model.fit(text_tfidf,y_train)\n",
    "    tfidf_cv = cross_val_predict(model,text_tfidf,y_train,cv=5,method='predict_proba')\n",
    "    tfidf_score = cross_val_score(model,text_tfidf,y_train,scoring='f1')\n",
    "    print(f'The {name} scores {round(tfidf_score.mean(),2)}')"
   ]
  },
  {
   "cell_type": "markdown",
   "metadata": {},
   "source": [
    "I will try a simple combination model using the average prediction of the logistic regression prediction probabilities of the count vectorizer and tfidf models to form a joint prediction to see if this improves over the individual models."
   ]
  },
  {
   "cell_type": "code",
   "execution_count": 46,
   "metadata": {},
   "outputs": [],
   "source": [
    "combined = (count_cv[:,0] + tfidf_cv[:,0])/2\n",
    "combined_preds = np.where(combined<0.5,1,0)"
   ]
  },
  {
   "cell_type": "code",
   "execution_count": 47,
   "metadata": {},
   "outputs": [
    {
     "name": "stdout",
     "output_type": "stream",
     "text": [
      "The f1 score of the combined model predictions is 0.75\n"
     ]
    }
   ],
   "source": [
    "f1_combined = f1_score(combined_preds,y_train)\n",
    "print(f'The f1 score of the combined model predictions is {round(f1_combined,2)}')"
   ]
  },
  {
   "cell_type": "markdown",
   "metadata": {},
   "source": [
    "Combining the predictions in this way does not improve the performance of the model compared to using the counts and tfidf individually. I will now try adding the predictions of the Logistic Regression model trained on the count vectorized data as a dense feature to the dataframe."
   ]
  },
  {
   "cell_type": "code",
   "execution_count": 37,
   "metadata": {},
   "outputs": [
    {
     "data": {
      "text/html": [
       "<div>\n",
       "<style scoped>\n",
       "    .dataframe tbody tr th:only-of-type {\n",
       "        vertical-align: middle;\n",
       "    }\n",
       "\n",
       "    .dataframe tbody tr th {\n",
       "        vertical-align: top;\n",
       "    }\n",
       "\n",
       "    .dataframe thead th {\n",
       "        text-align: right;\n",
       "    }\n",
       "</style>\n",
       "<table border=\"1\" class=\"dataframe\">\n",
       "  <thead>\n",
       "    <tr style=\"text-align: right;\">\n",
       "      <th></th>\n",
       "      <th>id</th>\n",
       "      <th>keyword</th>\n",
       "      <th>location</th>\n",
       "      <th>text</th>\n",
       "      <th>cleaned_text</th>\n",
       "      <th>true_top_20_keyword</th>\n",
       "      <th>false_top_20_keyword</th>\n",
       "      <th>less_than_75c</th>\n",
       "      <th>125c_to_145c</th>\n",
       "      <th>starts_with_at</th>\n",
       "      <th>contains_exclamation</th>\n",
       "      <th>Count_Predictions</th>\n",
       "    </tr>\n",
       "  </thead>\n",
       "  <tbody>\n",
       "    <tr>\n",
       "      <th>4717</th>\n",
       "      <td>6707</td>\n",
       "      <td>lava</td>\n",
       "      <td>santa maria, ca</td>\n",
       "      <td>Neighbor kids stopped to watch me play Disney's I Lava You song on my uke. Left as I got into Journey's Don't Stop Believing #kidsthesedays</td>\n",
       "      <td>neighbor kids stopped to watch me play disneys i lava you song on my uke left as i got into journeys dont stop believing kidsthesedays</td>\n",
       "      <td>0</td>\n",
       "      <td>0</td>\n",
       "      <td>0</td>\n",
       "      <td>1</td>\n",
       "      <td>0</td>\n",
       "      <td>0</td>\n",
       "      <td>0.013543</td>\n",
       "    </tr>\n",
       "  </tbody>\n",
       "</table>\n",
       "</div>"
      ],
      "text/plain": [
       "        id keyword         location  \\\n",
       "4717  6707    lava  santa maria, ca   \n",
       "\n",
       "                                                                                                                                             text  \\\n",
       "4717  Neighbor kids stopped to watch me play Disney's I Lava You song on my uke. Left as I got into Journey's Don't Stop Believing #kidsthesedays   \n",
       "\n",
       "                                                                                                                                cleaned_text  \\\n",
       "4717  neighbor kids stopped to watch me play disneys i lava you song on my uke left as i got into journeys dont stop believing kidsthesedays   \n",
       "\n",
       "      true_top_20_keyword  false_top_20_keyword  less_than_75c  125c_to_145c  \\\n",
       "4717                    0                     0              0             1   \n",
       "\n",
       "      starts_with_at  contains_exclamation  Count_Predictions  \n",
       "4717               0                     0           0.013543  "
      ]
     },
     "execution_count": 37,
     "metadata": {},
     "output_type": "execute_result"
    }
   ],
   "source": [
    "X_train['Count_Predictions'] = count_cv[:,1]\n",
    "X_train.head(1)"
   ]
  },
  {
   "cell_type": "code",
   "execution_count": 64,
   "metadata": {},
   "outputs": [
    {
     "name": "stdout",
     "output_type": "stream",
     "text": [
      "The untuned Logistic Regression model scores 0.75 on the training set\n"
     ]
    }
   ],
   "source": [
    "# Create combined data set\n",
    "dense_features_preds = dense_features+['Count_Predictions']\n",
    "fullLogReg = LogisticRegression() # Instantiate new model\n",
    "fullLogReg.fit(X_train[dense_features_preds],y_train)\n",
    "full_cv = cross_val_score(fullLogReg,X_train[dense_features_preds],y_train,cv=10,scoring='f1')\n",
    "print(f'The untuned Logistic Regression model scores {round(full_cv.mean(),2)} on the training set')"
   ]
  },
  {
   "cell_type": "markdown",
   "metadata": {},
   "source": [
    "Adding in the created features does not improve the accuracy. I will now try producing a tuned logistic regression model using only the count vectorized data."
   ]
  },
  {
   "cell_type": "code",
   "execution_count": 72,
   "metadata": {},
   "outputs": [
    {
     "name": "stdout",
     "output_type": "stream",
     "text": [
      "Fitting 5 folds for each of 16 candidates, totalling 80 fits\n"
     ]
    },
    {
     "name": "stderr",
     "output_type": "stream",
     "text": [
      "[Parallel(n_jobs=1)]: Using backend SequentialBackend with 1 concurrent workers.\n",
      "[Parallel(n_jobs=1)]: Done  80 out of  80 | elapsed:    6.3s finished\n"
     ]
    },
    {
     "data": {
      "text/plain": [
       "{'C': 0.2, 'penalty': 'l2'}"
      ]
     },
     "execution_count": 72,
     "metadata": {},
     "output_type": "execute_result"
    }
   ],
   "source": [
    "# Count Vectorize the cleaned text field in the validation set using the trained vectorizer.\n",
    "text_counts_valid = count_vectorizer.transform(X_valid['cleaned_text'])\n",
    "logreg = LogisticRegression() # Create new instance of logistic regression\n",
    "\n",
    "parameters = {  \n",
    "'C': [0.05,0.1,0.2,0.3],\n",
    "'penalty': ['l1', 'l2', 'elasticne', 'none'],\n",
    "}  \n",
    "grid_search= GridSearchCV(logreg, param_grid = parameters,verbose=1)\n",
    "grid_search.fit(text_counts_valid,y_valid)\n",
    "grid_search.best_params_"
   ]
  },
  {
   "cell_type": "code",
   "execution_count": 73,
   "metadata": {},
   "outputs": [],
   "source": [
    "# Train a new count_vectorizer on the full set of available training data\n",
    "full_text_counts = count_vectorizer.fit_transform(train_df['cleaned_text'])"
   ]
  },
  {
   "cell_type": "code",
   "execution_count": 74,
   "metadata": {},
   "outputs": [
    {
     "data": {
      "text/plain": [
       "LogisticRegression(C=0.2, class_weight=None, dual=False, fit_intercept=True,\n",
       "                   intercept_scaling=1, l1_ratio=None, max_iter=100,\n",
       "                   multi_class='auto', n_jobs=None, penalty='l2',\n",
       "                   random_state=None, solver='lbfgs', tol=0.0001, verbose=0,\n",
       "                   warm_start=False)"
      ]
     },
     "execution_count": 74,
     "metadata": {},
     "output_type": "execute_result"
    }
   ],
   "source": [
    "# Crate logistic regression model using C identified from GridSearch\n",
    "final_logreg = LogisticRegression(C = 0.2)\n",
    "final_logreg.fit(full_text_counts,train_df['target'])"
   ]
  },
  {
   "cell_type": "code",
   "execution_count": 75,
   "metadata": {},
   "outputs": [],
   "source": [
    "# Create a sprase matrix of the count vectorized test data cleaned text\n",
    "test_cleaned_text = count_vectorizer.transform(test_df['cleaned_text'])"
   ]
  },
  {
   "cell_type": "code",
   "execution_count": 165,
   "metadata": {},
   "outputs": [],
   "source": [
    "# Produce predictions for the test set\n",
    "preds = final_logreg.predict(test_cleaned_text)\n",
    "preds_proba = final_logreg.predict_proba(test_cleaned_text)"
   ]
  },
  {
   "cell_type": "code",
   "execution_count": 77,
   "metadata": {},
   "outputs": [],
   "source": [
    "# Create data frame in correct format for submitting to Kaggle and save it as a csv.\n",
    "submission = pd.DataFrame({'Id':test_df['id'],'target':preds})\n",
    "submission.to_csv('submission.csv',index=False)"
   ]
  },
  {
   "cell_type": "markdown",
   "metadata": {},
   "source": [
    "#### Model analysis\n",
    "To understand the model in more depth I will look at learning curves and error analysis using a confusion matrix and decision curves.\n",
    "\n",
    "The feature to use with the model is the count vectorized cleaned text data, full_text_counts. I will use C=0.2 as per the submitted model."
   ]
  },
  {
   "cell_type": "code",
   "execution_count": 99,
   "metadata": {},
   "outputs": [],
   "source": [
    "# Create a fresh instance of logistic regression\n",
    "learning_logreg = LogisticRegression(C=0.2)\n",
    "\n",
    "# Set up a list of training set sizes - there are 6090 available training examples\n",
    "intervals = [1000, 2000, 3000, 4000, 5000, text_counts.shape[0]]\n",
    "\n",
    "train_sizes, train_scores, validation_scores = learning_curve(\n",
    "estimator = learning_logreg,\n",
    "X = full_text_counts,\n",
    "y = train_df['target'], train_sizes = intervals, cv = 5,\n",
    "scoring = 'f1')"
   ]
  },
  {
   "cell_type": "code",
   "execution_count": 103,
   "metadata": {},
   "outputs": [],
   "source": [
    "# Extract training and validation scores for plotting\n",
    "train_scores_mean = train_scores.mean(axis = 1)\n",
    "validation_scores_mean = validation_scores.mean(axis = 1)"
   ]
  },
  {
   "cell_type": "code",
   "execution_count": 108,
   "metadata": {},
   "outputs": [
    {
     "data": {
      "image/png": "[encoded data removed]",
      "text/plain": [
       "<Figure size 576x396 with 1 Axes>"
      ]
     },
     "metadata": {},
     "output_type": "display_data"
    }
   ],
   "source": [
    "# Plot training and validation f1 scores\n",
    "_ = plt.plot(train_sizes, train_scores_mean, label = 'Training error')\n",
    "_ = plt.plot(train_sizes, validation_scores_mean, label = 'Validation error')\n",
    "_ = plt.ylabel('MSE', fontsize = 14)\n",
    "_ = plt.xlabel('Training set size', fontsize = 14)\n",
    "_ = plt.title('Learning curves for a linear regression model', fontsize = 14, y = 1)\n",
    "_ = plt.legend()"
   ]
  },
  {
   "cell_type": "code",
   "execution_count": 123,
   "metadata": {},
   "outputs": [
    {
     "name": "stdout",
     "output_type": "stream",
     "text": [
      "[0 0 0 1 1 0 0 1 1 0]\n",
      "[[0.75539076 0.24460924]\n",
      " [0.74153393 0.25846607]\n",
      " [0.86774487 0.13225513]\n",
      " [0.1917537  0.8082463 ]\n",
      " [0.07468016 0.92531984]\n",
      " [0.7867624  0.2132376 ]\n",
      " [0.68045802 0.31954198]\n",
      " [0.05059089 0.94940911]\n",
      " [0.33544197 0.66455803]\n",
      " [0.97521955 0.02478045]]\n"
     ]
    }
   ],
   "source": [
    "# Now look at confusion matrix and decision curves\n",
    "learning_logreg.fit(full_text_counts,train_df['target'])\n",
    "valid_preds = learning_logreg.predict(text_counts_valid)\n",
    "valid_preds_proba = learning_logreg.predict_proba(text_counts_valid)"
   ]
  },
  {
   "cell_type": "code",
   "execution_count": 119,
   "metadata": {},
   "outputs": [
    {
     "data": {
      "image/png": "[encoded data removed]",
      "text/plain": [
       "<Figure size 576x396 with 1 Axes>"
      ]
     },
     "metadata": {},
     "output_type": "display_data"
    }
   ],
   "source": [
    "cm = confusion_matrix(valid_preds,y_valid)\n",
    "_ = plot_confusion_matrix(cm,show_normed=True)"
   ]
  },
  {
   "cell_type": "code",
   "execution_count": 133,
   "metadata": {},
   "outputs": [],
   "source": [
    "# Obtain precision/ recall and roc characteristics\n",
    "precisions, recalls, pr_thresholds = precision_recall_curve(y_valid,valid_preds_proba[:,1])\n",
    "fpr, tpr, roc_thresholds = roc_curve(y_valid,valid_preds_proba[:,1])"
   ]
  },
  {
   "cell_type": "code",
   "execution_count": 153,
   "metadata": {},
   "outputs": [
    {
     "data": {
      "image/png": "[encoded data removed]",
      "text/plain": [
       "<Figure size 576x360 with 1 Axes>"
      ]
     },
     "metadata": {
      "needs_background": "light"
     },
     "output_type": "display_data"
    }
   ],
   "source": [
    "fig = plt.figure(figsize=(8,5))\n",
    "_ = plt.plot(recalls,precisions)\n",
    "_ = plt.ylabel('Precision')\n",
    "_ = plt.xlabel('Recall')\n",
    "_ = plt.title('Precision-Recall curve for Logistic Regression(C=0.2)')"
   ]
  },
  {
   "cell_type": "code",
   "execution_count": 154,
   "metadata": {},
   "outputs": [
    {
     "name": "stdout",
     "output_type": "stream",
     "text": [
      "The area under the ROC curve for the Logistic Regression model is 0.96\n"
     ]
    },
    {
     "data": {
      "image/png": "[encoded data removed]",
      "text/plain": [
       "<Figure size 576x360 with 1 Axes>"
      ]
     },
     "metadata": {
      "needs_background": "light"
     },
     "output_type": "display_data"
    }
   ],
   "source": [
    "fig = plt.figure(figsize=(8,5))\n",
    "roc_score = roc_auc_score(y_valid,valid_preds_proba[:,1])\n",
    "print(f'The area under the ROC curve for the Logistic Regression model is {round(roc_score,2)}')\n",
    "_ = plt.plot(fpr,tpr)\n",
    "_ = plt.title('ROC for Logistic Regression(C=0.2)')\n",
    "_ = plt.xlabel('FPR')\n",
    "_ = plt.ylabel('TPR')"
   ]
  },
  {
   "cell_type": "markdown",
   "metadata": {},
   "source": [
    "As the metric for this Kaggle competition I can use the predicted probabilities of the validation set to see what threshold will optimise the f1 score."
   ]
  },
  {
   "cell_type": "code",
   "execution_count": 157,
   "metadata": {},
   "outputs": [
    {
     "data": {
      "text/plain": [
       "[0.614824920418372,\n",
       " 0.6297158826269214,\n",
       " 0.6646942800788954,\n",
       " 0.7162740899357602,\n",
       " 0.7744581136496779,\n",
       " 0.8250950570342205,\n",
       " 0.8644184445973847,\n",
       " 0.8795355587808418,\n",
       " 0.8783068783068784,\n",
       " 0.8643533123028391,\n",
       " 0.8397699260476582,\n",
       " 0.8139931740614333,\n",
       " 0.7782724844167409,\n",
       " 0.738404452690167,\n",
       " 0.6809756097560976,\n",
       " 0.6076210092687951,\n",
       " 0.5224043715846994,\n",
       " 0.4187134502923977,\n",
       " 0.25773195876288657,\n",
       " 0.0]"
      ]
     },
     "execution_count": 157,
     "metadata": {},
     "output_type": "execute_result"
    }
   ],
   "source": [
    "f1_thresh = np.linspace(0,1,20) # array of threshold values\n",
    "f1_scores = [] # initialize empty list to store f1 scores\n",
    "for thresh in f1_thresh:\n",
    "    preds = np.where(valid_preds_proba[:,1]>thresh,1,0)\n",
    "    f1_scores.append(f1_score(preds,y_valid))"
   ]
  },
  {
   "cell_type": "code",
   "execution_count": 160,
   "metadata": {},
   "outputs": [
    {
     "data": {
      "image/png": "[encoded data removed]",
      "text/plain": [
       "<Figure size 720x360 with 1 Axes>"
      ]
     },
     "metadata": {
      "needs_background": "light"
     },
     "output_type": "display_data"
    }
   ],
   "source": [
    "fig = plt.figure(figsize=(10,5))\n",
    "_ = plt.plot(f1_thresh,f1_scores)\n",
    "_ = plt.title('f1 Score vs Threshold for LogReg model')\n",
    "_ = plt.xlabel('Threshold')\n",
    "_ = plt.ylabel('f1 Score')"
   ]
  },
  {
   "cell_type": "markdown",
   "metadata": {},
   "source": [
    "Using the analysis above there are a few conclusions which can be drawn about the model developed so far:\n",
    "- It looks to be underfitting the data. As this is a competition set I will stick to the data provided as part of it. This means that to extract more information I need more feature data. I will need to look again at how to use the other data in the set.\n",
    "- The majority of errors come from incorrectly predicting fake tweets as true\n",
    "- An area under curve score of 0.96 shows that the model is performing relatively well\n",
    "- Despite the main source of error being due to predicting too many tweets as True it seems that the f1 score could be improved by lowering the threshold for a positive prediction to 0.35\n",
    "\n",
    "As a next step I will create a submission using the same logistic regression model as before but with a threshold of 0.35. First though I will see how changing the threshold to 0.35 affects the accuracy of the validation predictions"
   ]
  },
  {
   "cell_type": "code",
   "execution_count": 168,
   "metadata": {},
   "outputs": [],
   "source": [
    "point35_preds = np.where(valid_preds_proba[:,1]>0.35,1,0)\n",
    "point35_cm = confusion_matrix(point35_preds,y_valid)"
   ]
  },
  {
   "cell_type": "code",
   "execution_count": 170,
   "metadata": {},
   "outputs": [
    {
     "name": "stdout",
     "output_type": "stream",
     "text": [
      "With a threshold of 0.5 there are a total of 184 incorrect predictions\n",
      "With a threshold of 0.35 there are a total of 169 incorrect predictions\n"
     ]
    }
   ],
   "source": [
    "print(f'With a threshold of 0.5 there are a total of {cm[0,1]+cm[1,0]} incorrect predictions')\n",
    "print(f'With a threshold of 0.35 there are a total of {point35_cm[0,1]+point35_cm[1,0]} incorrect predictions')"
   ]
  },
  {
   "cell_type": "code",
   "execution_count": 173,
   "metadata": {},
   "outputs": [],
   "source": [
    "# Create data frame Kaggle submission for predictions for 0.35 threshold\n",
    "point35_test = np.where(preds_proba[:,1]>0.35,1,0)\n",
    "point35_submission = pd.DataFrame({'Id':test_df['id'],'target':point35_test})\n",
    "point35_submission.to_csv('point35_submission.csv',index=False)"
   ]
  },
  {
   "cell_type": "markdown",
   "metadata": {},
   "source": [
    "The lower threshold performed worse on the test set than the model with 0.35 threshold. This might be due to the 0.35 threshold being overfit to the validation data."
   ]
  },
  {
   "cell_type": "markdown",
   "metadata": {},
   "source": [
    "### Next Stage Model Development\n",
    "The learning curve showed that the current model is underfitting the available data. This is perhaps unsurprising as "
   ]
  }
 ],
 "metadata": {
  "kernelspec": {
   "display_name": "Python 3",
   "language": "python",
   "name": "python3"
  },
  "language_info": {
   "codemirror_mode": {
    "name": "ipython",
    "version": 3
   },
   "file_extension": ".py",
   "mimetype": "text/x-python",
   "name": "python",
   "nbconvert_exporter": "python",
   "pygments_lexer": "ipython3",
   "version": "3.6.10"
  }
 },
 "nbformat": 4,
 "nbformat_minor": 4
}
